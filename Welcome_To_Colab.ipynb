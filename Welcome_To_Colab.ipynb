{
  "cells": [
    {
      "cell_type": "markdown",
      "metadata": {
        "id": "view-in-github",
        "colab_type": "text"
      },
      "source": [
        "<a href=\"https://colab.research.google.com/github/olutobideyoung/MY-R-CODES/blob/main/Welcome_To_Colab.ipynb\" target=\"_parent\"><img src=\"https://colab.research.google.com/assets/colab-badge.svg\" alt=\"Open In Colab\"/></a>"
      ]
    },
    {
      "cell_type": "code",
      "source": [
        "import pandas as pd\n",
        "import numpy as np\n",
        "from sklearn.preprocessing import StandardScaler\n",
        "from sklearn.model_selection import train_test_split\n",
        "import tensorflow as tf\n",
        "from tensorflow.keras.models import Sequential\n",
        "from tensorflow.keras.layers import Dense, Dropout\n",
        "import matplotlib.pyplot as plt\n",
        "\n"
      ],
      "metadata": {
        "id": "5jK8wDoNSRVE"
      },
      "execution_count": 4,
      "outputs": []
    },
    {
      "cell_type": "code",
      "source": [
        "# Load your data\n",
        "df = pd.read_csv(\"agriculture_climate_data.csv\")  # replace with your actual file\n",
        "\n",
        "# Compute 5-year moving averages for selected features\n",
        "df['Humidity_MA5'] = df['Relative Humidity (%)'].rolling(window=5).mean()\n",
        "df['Precip_MA5'] = df['Precipitation (mm)'].rolling(window=5).mean()\n",
        "df['Land_MA5'] = df['Agricultural Land (sq. km)'].rolling(window=5).mean()\n",
        "\n",
        "# Drop rows with NaNs resulting from moving average\n",
        "df_clean = df.dropna().reset_index(drop=True)"
      ],
      "metadata": {
        "id": "1uafyPMKU9y3"
      },
      "execution_count": null,
      "outputs": []
    },
    {
      "cell_type": "code",
      "source": [
        "# Define features and target\n",
        "X = df_clean[['Humidity_MA5', 'Precip_MA5', 'Land_MA5']]\n",
        "y = df_clean['Gross Domestic Product (GDP) (Current LCU)']\n",
        "\n",
        "# Optional: log-transform GDP if skewed\n",
        "# y = np.log1p(y)\n",
        "\n",
        "# Standardize features\n",
        "scaler = StandardScaler()\n",
        "X_scaled = scaler.fit_transform(X)"
      ],
      "metadata": {
        "id": "Ig4XrFcLVsoI"
      },
      "execution_count": null,
      "outputs": []
    },
    {
      "cell_type": "code",
      "source": [
        "# Train-test split (e.g., last 10 years as test)\n",
        "split_index = int(len(X_scaled) * 0.85)\n",
        "X_train, X_test = X_scaled[:split_index], X_scaled[split_index:]\n",
        "y_train, y_test = y[:split_index], y[split_index:]"
      ],
      "metadata": {
        "id": "WzGh9C2TWVDk"
      },
      "execution_count": null,
      "outputs": []
    },
    {
      "cell_type": "code",
      "source": [
        "# Build the FNN model\n",
        "model = Sequential([\n",
        "    Dense(32, activation='relu', input_shape=(X_train.shape[1],)),\n",
        "    Dropout(0.2),\n",
        "    Dense(16, activation='relu'),\n",
        "    Dense(1)  # Regression output\n",
        "])\n",
        "\n",
        "model.compile(optimizer='adam', loss='mse', metrics=['mae'])\n",
        "\n",
        "# Train the model\n",
        "history = model.fit(X_train, y_train, epochs=200, batch_size=8, validation_split=0.1, verbose=0)"
      ],
      "metadata": {
        "id": "dp-ci1sUWfYr"
      },
      "execution_count": null,
      "outputs": []
    },
    {
      "cell_type": "code",
      "source": [
        "# Plot training history\n",
        "plt.plot(history.history['loss'], label='Train Loss')\n",
        "plt.plot(history.history['val_loss'], label='Val Loss')\n",
        "plt.legend()\n",
        "plt.title(\"Loss Curve\")\n",
        "plt.show()"
      ],
      "metadata": {
        "id": "fMPjVJAiWjEc"
      },
      "execution_count": null,
      "outputs": []
    },
    {
      "cell_type": "code",
      "source": [
        "# Evaluate\n",
        "test_loss, test_mae = model.evaluate(X_test, y_test)\n",
        "print(f\"Test MAE: {test_mae:.2f}\")\n",
        "\n",
        "# Predict and plot\n",
        "y_pred = model.predict(X_test)\n",
        "\n",
        "plt.figure(figsize=(10,5))\n",
        "plt.plot(y_test.values, label='Actual GDP')\n",
        "plt.plot(y_pred, label='Predicted GDP')\n",
        "plt.title(\"Actual vs Predicted GDP (5-Year Moving Avg Inputs)\")\n",
        "plt.xlabel(\"Year Index\")\n",
        "plt.ylabel(\"GDP (Current LCU)\")\n",
        "plt.legend()\n",
        "plt.show()"
      ],
      "metadata": {
        "id": "mILhB3dHWpxj"
      },
      "execution_count": null,
      "outputs": []
    }
  ],
  "metadata": {
    "colab": {
      "name": "Welcome To Colab",
      "provenance": [],
      "include_colab_link": true
    },
    "kernelspec": {
      "display_name": "Python 3",
      "name": "python3"
    }
  },
  "nbformat": 4,
  "nbformat_minor": 0
}