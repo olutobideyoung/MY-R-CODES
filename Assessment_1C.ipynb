{
  "nbformat": 4,
  "nbformat_minor": 0,
  "metadata": {
    "colab": {
      "provenance": [],
      "authorship_tag": "ABX9TyPv16L02My3t7eKiKKYlJvX",
      "include_colab_link": true
    },
    "kernelspec": {
      "name": "python3",
      "display_name": "Python 3"
    },
    "language_info": {
      "name": "python"
    }
  },
  "cells": [
    {
      "cell_type": "markdown",
      "metadata": {
        "id": "view-in-github",
        "colab_type": "text"
      },
      "source": [
        "<a href=\"https://colab.research.google.com/github/olutobideyoung/MY-R-CODES/blob/main/Assessment_1C.ipynb\" target=\"_parent\"><img src=\"https://colab.research.google.com/assets/colab-badge.svg\" alt=\"Open In Colab\"/></a>"
      ]
    },
    {
      "cell_type": "code",
      "execution_count": 1,
      "metadata": {
        "id": "SUtXAy0VUX7L"
      },
      "outputs": [],
      "source": [
        "import pandas as pd\n",
        "import numpy as np\n",
        "import statsmodels.api as sm\n",
        "import matplotlib.pyplot as plt\n",
        "from sklearn.model_selection import train_test_split\n",
        "from sklearn.linear_model import LinearRegression\n",
        "from sklearn.metrics import mean_absolute_error, mean_squared_error\n",
        "\n"
      ]
    },
    {
      "cell_type": "code",
      "source": [
        "# Loading the dataset\n",
        "df = pd.read_csv(\"covid19tests.csv\", encoding='latin1', thousands=',')\n",
        "\n",
        "# Convert 'tests' column to numeric, removing commas and handling errors\n",
        "df['tests'] = pd.to_numeric(df['tests'].str.replace(',', ''), errors='coerce')\n",
        "\n",
        "# Display first few rows\n",
        "print(df.head())\n",
        "\n",
        "# Checking for missing values\n",
        "print(df.isnull().sum())\n",
        "\n"
      ],
      "metadata": {
        "colab": {
          "base_uri": "https://localhost:8080/"
        },
        "id": "8ZZ6IfXsY6Uv",
        "outputId": "7aef06a5-3766-49d9-ed19-7724a17eed29"
      },
      "execution_count": 3,
      "outputs": [
        {
          "output_type": "stream",
          "name": "stdout",
          "text": [
            "  region     country alpha3code alpha2code     tests  positive    date  \\\n",
            "0    NaN   Argentina        ARG         AR    4843.0     966.0  31-Mar   \n",
            "1    NaN     Armenia        ARM         AM    3603.0     663.0  02-Apr   \n",
            "2    NaN   Australia        AUS         AU  277355.0    5358.0  03-Apr   \n",
            "3    NaN     Austria        AUT         AT   98343.0   11350.0  03-Apr   \n",
            "4    NaN  Azerbaijan        AZE         AZ   30000.0     443.0  03-Apr   \n",
            "\n",
            "   testper1m  positiveper1m  \n",
            "0        107          199.0  \n",
            "1       1221           74.0  \n",
            "2      10919           19.0  \n",
            "3      11047          101.0  \n",
            "4       3031           15.0  \n",
            "region           80\n",
            "country           0\n",
            "alpha3code        1\n",
            "alpha2code        0\n",
            "tests             1\n",
            "positive          2\n",
            "date              0\n",
            "testper1m         0\n",
            "positiveper1m     1\n",
            "dtype: int64\n"
          ]
        }
      ]
    },
    {
      "cell_type": "code",
      "source": [
        "# Drop rows where 'tests' or 'positive' have missing values\n",
        "df_cleaned = df.dropna(subset=['tests', 'positive'])"
      ],
      "metadata": {
        "id": "pZF-T1c9h0ah"
      },
      "execution_count": 4,
      "outputs": []
    },
    {
      "cell_type": "code",
      "source": [
        "# Define independent (X) and dependent (y) variables\n",
        "X = df_cleaned[['tests']]  # Independent variable (keep it in 2D for sklearn)\n",
        "y = df_cleaned['positive']  # Dependent variable\n",
        "# Add a constant (intercept) to X\n",
        "X = sm.add_constant(X)\n",
        "# Split dataset into 70% train and 30% test\n",
        "X_train, X_test, y_train, y_test = train_test_split(X, y, test_size=0.3, random_state=42)\n",
        "X_train_sm = sm.add_constant(X_train)"
      ],
      "metadata": {
        "id": "S5EnLS3nZKNU"
      },
      "execution_count": 12,
      "outputs": []
    },
    {
      "cell_type": "code",
      "source": [
        "# Train the Linear Regression model\n",
        "model = LinearRegression()\n",
        "model.fit(X_train, y_train)\n",
        "\n",
        "# Predict on train and test sets\n",
        "y_train_pred = model.predict(X_train)\n",
        "y_test_pred = model.predict(X_test)"
      ],
      "metadata": {
        "id": "y6wM-JTxZiHg"
      },
      "execution_count": 13,
      "outputs": []
    },
    {
      "cell_type": "code",
      "source": [
        "ols_model = sm.OLS(y_train, X_train).fit()\n",
        "print(\"\\nModel Summary:\\n\", ols_model.summary())"
      ],
      "metadata": {
        "colab": {
          "base_uri": "https://localhost:8080/"
        },
        "id": "VUjRKQJwpSbb",
        "outputId": "adf3025e-fc81-42c2-a319-7c6faff279fa"
      },
      "execution_count": 14,
      "outputs": [
        {
          "output_type": "stream",
          "name": "stdout",
          "text": [
            "\n",
            "Model Summary:\n",
            "                             OLS Regression Results                            \n",
            "==============================================================================\n",
            "Dep. Variable:               positive   R-squared:                       0.790\n",
            "Model:                            OLS   Adj. R-squared:                  0.787\n",
            "Method:                 Least Squares   F-statistic:                     274.5\n",
            "Date:                Mon, 10 Mar 2025   Prob (F-statistic):           1.92e-26\n",
            "Time:                        10:18:52   Log-Likelihood:                -824.45\n",
            "No. Observations:                  75   AIC:                             1653.\n",
            "Df Residuals:                      73   BIC:                             1658.\n",
            "Df Model:                           1                                         \n",
            "Covariance Type:            nonrobust                                         \n",
            "==============================================================================\n",
            "                 coef    std err          t      P>|t|      [0.025      0.975]\n",
            "------------------------------------------------------------------------------\n",
            "const      -2225.0001   1835.116     -1.212      0.229   -5882.381    1432.381\n",
            "tests          0.1374      0.008     16.569      0.000       0.121       0.154\n",
            "==============================================================================\n",
            "Omnibus:                       24.873   Durbin-Watson:                   1.930\n",
            "Prob(Omnibus):                  0.000   Jarque-Bera (JB):              190.696\n",
            "Skew:                          -0.465   Prob(JB):                     3.90e-42\n",
            "Kurtosis:                      10.756   Cond. No.                     2.41e+05\n",
            "==============================================================================\n",
            "\n",
            "Notes:\n",
            "[1] Standard Errors assume that the covariance matrix of the errors is correctly specified.\n",
            "[2] The condition number is large, 2.41e+05. This might indicate that there are\n",
            "strong multicollinearity or other numerical problems.\n"
          ]
        }
      ]
    },
    {
      "cell_type": "code",
      "source": [
        "# Calculate performance metrics\n",
        "mae_train = mean_absolute_error(y_train, y_train_pred)\n",
        "mae_test = mean_absolute_error(y_test, y_test_pred)\n",
        "\n",
        "mse_train = mean_squared_error(y_train, y_train_pred)\n",
        "mse_test = mean_squared_error(y_test, y_test_pred)\n",
        "\n",
        "rmse_train = np.sqrt(mse_train)\n",
        "rmse_test = np.sqrt(mse_test)\n",
        "\n",
        "# Print results\n",
        "print(\"\\nModel Performance:\")\n",
        "print(f\"Train MAE: {mae_train:.2f}, Test MAE: {mae_test:.2f}\")\n",
        "print(f\"Train MSE: {mse_train:.2f}, Test MSE: {mse_test:.2f}\")\n",
        "print(f\"Train RMSE: {rmse_train:.2f}, Test RMSE: {rmse_test:.2f}\")"
      ],
      "metadata": {
        "colab": {
          "base_uri": "https://localhost:8080/"
        },
        "id": "cfXNBCCVZngf",
        "outputId": "7b54ab4d-169c-471d-b85d-30ceab77368c"
      },
      "execution_count": 15,
      "outputs": [
        {
          "output_type": "stream",
          "name": "stdout",
          "text": [
            "\n",
            "Model Performance:\n",
            "Train MAE: 7008.40, Test MAE: 7338.16\n",
            "Train MSE: 206820804.54, Test MSE: 310650471.41\n",
            "Train RMSE: 14381.27, Test RMSE: 17625.28\n"
          ]
        }
      ]
    },
    {
      "cell_type": "code",
      "source": [
        "# Plot actual vs predicted values\n",
        "plt.scatter(X_test['tests'], y_test, label=\"Actual\", color=\"blue\", alpha=0.5) # Use only 'tests' column from X_test\n",
        "plt.scatter(X_test['tests'], y_test_pred, label=\"Predicted\", color=\"red\", alpha=0.5) # Use only 'tests' column from X_test\n",
        "plt.xlabel(\"Tests\")\n",
        "plt.ylabel(\"Positive Cases\")\n",
        "plt.title(\"Linear Regression: Positive Cases vs Tests (Test Set)\")\n",
        "plt.legend()\n",
        "plt.show()"
      ],
      "metadata": {
        "colab": {
          "base_uri": "https://localhost:8080/",
          "height": 472
        },
        "id": "B1ep_-6daY1i",
        "outputId": "e1c48073-1026-4f6d-9dec-9567e7768f86"
      },
      "execution_count": 19,
      "outputs": [
        {
          "output_type": "display_data",
          "data": {
            "text/plain": [
              "<Figure size 640x480 with 1 Axes>"
            ],
            "image/png": "[encoded data removed]"
          },
          "metadata": {}
        }
      ]
    },
    {
      "cell_type": "code",
      "source": [
        "# Display the test dataset with predictions\n",
        "X_test_display = X_test.copy()\n",
        "X_test_display['Actual Positive'] = y_test\n",
        "X_test_display['Predicted Positive'] = y_test_pred\n",
        "\n",
        "print(\"\\nTest Dataset with Predictions:\\n\")\n",
        "print(X_test_display)"
      ],
      "metadata": {
        "colab": {
          "base_uri": "https://localhost:8080/"
        },
        "id": "JsqvETG1admc",
        "outputId": "96a54c7f-1537-4aed-86c3-bf71d3fe322c"
      },
      "execution_count": 20,
      "outputs": [
        {
          "output_type": "stream",
          "name": "stdout",
          "text": [
            "\n",
            "Test Dataset with Predictions:\n",
            "\n",
            "     const     tests  Actual Positive  Predicted Positive\n",
            "79     1.0   52086.0           7443.0         4930.654880\n",
            "10     1.0     591.0             97.0        -2143.807614\n",
            "4      1.0   30000.0            443.0         1896.446148\n",
            "85     1.0   24857.0            911.0         1189.892879\n",
            "64     1.0   18432.0            696.0          307.216473\n",
            "69     1.0    1185.0              6.0        -2062.202979\n",
            "31     1.0   67281.0           3858.0         7018.167407\n",
            "46     1.0   80000.0          21638.0         8765.523237\n",
            "97     1.0  163194.0          33718.0        20194.843224\n",
            "11     1.0    4051.0            529.0        -1668.467480\n",
            "83     1.0   39000.0            558.0         3132.880024\n",
            "81     1.0  575000.0           4149.0        76769.386421\n",
            "0      1.0    4843.0            966.0        -1559.661299\n",
            "82     1.0    5008.0           1171.0        -1536.993344\n",
            "18     1.0    2333.0            135.0        -1904.488969\n",
            "71     1.0   29485.0            772.0         1825.694654\n",
            "57     1.0     442.0             44.0        -2164.277464\n",
            "78     1.0   66938.0           3149.0         6971.045538\n",
            "109    1.0    1779.0            143.0        -1980.598343\n",
            "43     1.0   20930.0           1319.0          650.395564\n",
            "12     1.0   54824.0           7910.0         5306.805541\n",
            "37     1.0  224254.0          54627.0        28583.360166\n",
            "66     1.0    4462.0            139.0        -1612.003666\n",
            "26     1.0   35142.0           2738.0         2602.862036\n",
            "22     1.0     608.0             18.0        -2141.472128\n",
            "32     1.0   39583.0           3861.0         3212.973463\n",
            "48     1.0   90394.0           6901.0        10193.466983\n",
            "103    1.0  238965.0          92381.0        30604.380027\n",
            "15     1.0   45966.0           1121.0         4089.879844\n",
            "45     1.0    7193.0           1790.0        -1236.814676\n",
            "90     1.0  139330.0          18267.0        16916.370111\n",
            "91     1.0   34557.0            348.0         2522.493834\n",
            "9      1.0   18360.0           1486.0          297.325002\n"
          ]
        }
      ]
    }
  ]
}